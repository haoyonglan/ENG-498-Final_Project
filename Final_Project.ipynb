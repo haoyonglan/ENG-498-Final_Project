{
  "nbformat": 4,
  "nbformat_minor": 0,
  "metadata": {
    "kernelspec": {
      "display_name": "Python 3",
      "language": "python",
      "name": "python3"
    },
    "language_info": {
      "codemirror_mode": {
        "name": "ipython",
        "version": 3
      },
      "file_extension": ".py",
      "mimetype": "text/x-python",
      "name": "python",
      "nbconvert_exporter": "python",
      "pygments_lexer": "ipython3",
      "version": "3.8.5"
    },
    "colab": {
      "name": "Final_Project.ipynb",
      "provenance": [],
      "collapsed_sections": [],
      "toc_visible": true
    },
    "widgets": {
      "application/vnd.jupyter.widget-state+json": {
        "32a4f88312c34f58be6980c803c3044e": {
          "model_module": "@jupyter-widgets/controls",
          "model_name": "VBoxModel",
          "state": {
            "_view_name": "VBoxView",
            "_dom_classes": [
              "widget-interact"
            ],
            "_model_name": "VBoxModel",
            "_view_module": "@jupyter-widgets/controls",
            "_model_module_version": "1.5.0",
            "_view_count": null,
            "_view_module_version": "1.5.0",
            "box_style": "",
            "layout": "IPY_MODEL_9a437d746f094b299ece3021377b4855",
            "_model_module": "@jupyter-widgets/controls",
            "children": [
              "IPY_MODEL_2b514bddd65f4a1eb5ea6ee80622a390",
              "IPY_MODEL_45be0c8c2d044a57925c31ba5ac5808d"
            ]
          }
        },
        "9a437d746f094b299ece3021377b4855": {
          "model_module": "@jupyter-widgets/base",
          "model_name": "LayoutModel",
          "state": {
            "_view_name": "LayoutView",
            "grid_template_rows": null,
            "right": null,
            "justify_content": null,
            "_view_module": "@jupyter-widgets/base",
            "overflow": null,
            "_model_module_version": "1.2.0",
            "_view_count": null,
            "flex_flow": null,
            "width": null,
            "min_width": null,
            "border": null,
            "align_items": null,
            "bottom": null,
            "_model_module": "@jupyter-widgets/base",
            "top": null,
            "grid_column": null,
            "overflow_y": null,
            "overflow_x": null,
            "grid_auto_flow": null,
            "grid_area": null,
            "grid_template_columns": null,
            "flex": null,
            "_model_name": "LayoutModel",
            "justify_items": null,
            "grid_row": null,
            "max_height": null,
            "align_content": null,
            "visibility": null,
            "align_self": null,
            "height": null,
            "min_height": null,
            "padding": null,
            "grid_auto_rows": null,
            "grid_gap": null,
            "max_width": null,
            "order": null,
            "_view_module_version": "1.2.0",
            "grid_template_areas": null,
            "object_position": null,
            "object_fit": null,
            "grid_auto_columns": null,
            "margin": null,
            "display": null,
            "left": null
          }
        },
        "2b514bddd65f4a1eb5ea6ee80622a390": {
          "model_module": "@jupyter-widgets/controls",
          "model_name": "DropdownModel",
          "state": {
            "_options_labels": [
              "id",
              "host_id",
              "latitude",
              "longitude",
              "price",
              "minimum_nights",
              "number_of_reviews",
              "reviews_per_month",
              "calculated_host_listings_count",
              "availability_365"
            ],
            "_view_name": "DropdownView",
            "style": "IPY_MODEL_f33d82b027864bf3a4e9112cf3754b8d",
            "_dom_classes": [],
            "description": "Columns:",
            "_model_name": "DropdownModel",
            "index": 9,
            "_view_module": "@jupyter-widgets/controls",
            "_model_module_version": "1.5.0",
            "_view_count": null,
            "disabled": false,
            "_view_module_version": "1.5.0",
            "description_tooltip": null,
            "_model_module": "@jupyter-widgets/controls",
            "layout": "IPY_MODEL_78b4bc19fa6d4614b85bd433a107d7c8"
          }
        },
        "45be0c8c2d044a57925c31ba5ac5808d": {
          "model_module": "@jupyter-widgets/output",
          "model_name": "OutputModel",
          "state": {
            "_view_name": "OutputView",
            "msg_id": "",
            "_dom_classes": [],
            "_model_name": "OutputModel",
            "outputs": [
              {
                "output_type": "display_data",
                "metadata": {
                  "tags": [],
                  "needs_background": "light"
                },
                "image/png": "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\n",
                "text/plain": "<Figure size 432x288 with 1 Axes>"
              }
            ],
            "_view_module": "@jupyter-widgets/output",
            "_model_module_version": "1.0.0",
            "_view_count": null,
            "_view_module_version": "1.0.0",
            "layout": "IPY_MODEL_16d33a5e260b415398ea39506e256d51",
            "_model_module": "@jupyter-widgets/output"
          }
        },
        "f33d82b027864bf3a4e9112cf3754b8d": {
          "model_module": "@jupyter-widgets/controls",
          "model_name": "DescriptionStyleModel",
          "state": {
            "_view_name": "StyleView",
            "_model_name": "DescriptionStyleModel",
            "description_width": "",
            "_view_module": "@jupyter-widgets/base",
            "_model_module_version": "1.5.0",
            "_view_count": null,
            "_view_module_version": "1.2.0",
            "_model_module": "@jupyter-widgets/controls"
          }
        },
        "78b4bc19fa6d4614b85bd433a107d7c8": {
          "model_module": "@jupyter-widgets/base",
          "model_name": "LayoutModel",
          "state": {
            "_view_name": "LayoutView",
            "grid_template_rows": null,
            "right": null,
            "justify_content": null,
            "_view_module": "@jupyter-widgets/base",
            "overflow": null,
            "_model_module_version": "1.2.0",
            "_view_count": null,
            "flex_flow": null,
            "width": null,
            "min_width": null,
            "border": null,
            "align_items": null,
            "bottom": null,
            "_model_module": "@jupyter-widgets/base",
            "top": null,
            "grid_column": null,
            "overflow_y": null,
            "overflow_x": null,
            "grid_auto_flow": null,
            "grid_area": null,
            "grid_template_columns": null,
            "flex": null,
            "_model_name": "LayoutModel",
            "justify_items": null,
            "grid_row": null,
            "max_height": null,
            "align_content": null,
            "visibility": null,
            "align_self": null,
            "height": null,
            "min_height": null,
            "padding": null,
            "grid_auto_rows": null,
            "grid_gap": null,
            "max_width": null,
            "order": null,
            "_view_module_version": "1.2.0",
            "grid_template_areas": null,
            "object_position": null,
            "object_fit": null,
            "grid_auto_columns": null,
            "margin": null,
            "display": null,
            "left": null
          }
        },
        "16d33a5e260b415398ea39506e256d51": {
          "model_module": "@jupyter-widgets/base",
          "model_name": "LayoutModel",
          "state": {
            "_view_name": "LayoutView",
            "grid_template_rows": null,
            "right": null,
            "justify_content": null,
            "_view_module": "@jupyter-widgets/base",
            "overflow": null,
            "_model_module_version": "1.2.0",
            "_view_count": null,
            "flex_flow": null,
            "width": null,
            "min_width": null,
            "border": null,
            "align_items": null,
            "bottom": null,
            "_model_module": "@jupyter-widgets/base",
            "top": null,
            "grid_column": null,
            "overflow_y": null,
            "overflow_x": null,
            "grid_auto_flow": null,
            "grid_area": null,
            "grid_template_columns": null,
            "flex": null,
            "_model_name": "LayoutModel",
            "justify_items": null,
            "grid_row": null,
            "max_height": null,
            "align_content": null,
            "visibility": null,
            "align_self": null,
            "height": null,
            "min_height": null,
            "padding": null,
            "grid_auto_rows": null,
            "grid_gap": null,
            "max_width": null,
            "order": null,
            "_view_module_version": "1.2.0",
            "grid_template_areas": null,
            "object_position": null,
            "object_fit": null,
            "grid_auto_columns": null,
            "margin": null,
            "display": null,
            "left": null
          }
        }
      }
    }
  },
  "cells": [
    {
      "cell_type": "code",
      "metadata": {
        "id": "iTazWYH9p7Tb"
      },
      "source": [
        "import csv\n",
        "import numpy as np\n",
        "import matplotlib.pyplot as plt\n",
        "import ipywidgets as widgets\n",
        "import seaborn as sns"
      ],
      "execution_count": 14,
      "outputs": []
    },
    {
      "cell_type": "markdown",
      "metadata": {
        "id": "Cf43OyjTp7Tg"
      },
      "source": [
        "## Data Import"
      ]
    },
    {
      "cell_type": "code",
      "metadata": {
        "colab": {
          "base_uri": "https://localhost:8080/"
        },
        "id": "NT9dvWc6p7Ti",
        "outputId": "5d4e63c4-01d2-48d2-e41d-f4a3e850b196"
      },
      "source": [
        "with open('cleaned_data.csv', 'r', encoding=\"utf8\") as inp:\n",
        "    readdata = csv.reader(inp)\n",
        "    datain = np.array(list(readdata))\n",
        "    header = datain[0,] \n",
        "    data = datain[1:,] \n",
        "    \n",
        "print(header)  \n",
        "print(data[0,:])\n",
        "print(data.shape)"
      ],
      "execution_count": 15,
      "outputs": [
        {
          "output_type": "stream",
          "text": [
            "['id' 'name' 'host_id' 'host_name' 'neighbourhood_group' 'neighbourhood'\n",
            " 'latitude' 'longitude' 'room_type' 'price' 'minimum_nights'\n",
            " 'number_of_reviews' 'last_review' 'reviews_per_month'\n",
            " 'calculated_host_listings_count' 'availability_365']\n",
            "['2539' 'Clean & quiet apt home by the park' '2787' 'John' 'Brooklyn'\n",
            " 'Kensington' '40.64749' '-73.97237' 'Private room' '149' '1' '9'\n",
            " '2018-10-19T00:00:00Z' '0.21' '6' '365']\n",
            "(28878, 16)\n"
          ],
          "name": "stdout"
        }
      ]
    },
    {
      "cell_type": "markdown",
      "metadata": {
        "id": "6gnRbw0Sp7Tl"
      },
      "source": [
        "## Find and clear missing values"
      ]
    },
    {
      "cell_type": "code",
      "metadata": {
        "colab": {
          "base_uri": "https://localhost:8080/"
        },
        "id": "HKRwxOBIp7Tm",
        "outputId": "eb494456-c6ff-4f87-8989-98bea1d66c48"
      },
      "source": [
        "np.argwhere(data == \"\")"
      ],
      "execution_count": 16,
      "outputs": [
        {
          "output_type": "execute_result",
          "data": {
            "text/plain": [
              "array([[  150,     3],\n",
              "       [ 1464,     3],\n",
              "       [ 2010,     1],\n",
              "       [ 3235,     3],\n",
              "       [ 3246,     1],\n",
              "       [ 3359,     1],\n",
              "       [ 3713,     3],\n",
              "       [ 4665,     3],\n",
              "       [ 5646,     3],\n",
              "       [ 6926,     1],\n",
              "       [ 7729,     1],\n",
              "       [ 8060,     3],\n",
              "       [ 8379,     3],\n",
              "       [11270,     3],\n",
              "       [17353,     1],\n",
              "       [18519,     3]])"
            ]
          },
          "metadata": {
            "tags": []
          },
          "execution_count": 16
        }
      ]
    },
    {
      "cell_type": "code",
      "metadata": {
        "id": "cheu8tNlp7Tn"
      },
      "source": [
        "cleaned_data = np.delete(arr=data,obj=np.argwhere(data == \"\"),axis=0) "
      ],
      "execution_count": 17,
      "outputs": []
    },
    {
      "cell_type": "code",
      "metadata": {
        "colab": {
          "base_uri": "https://localhost:8080/"
        },
        "id": "oogQsccdp7To",
        "outputId": "5e65013f-39a3-452e-bfbc-665f4e3cce36"
      },
      "source": [
        "np.argwhere(cleaned_data == \"\")"
      ],
      "execution_count": 18,
      "outputs": [
        {
          "output_type": "execute_result",
          "data": {
            "text/plain": [
              "array([], shape=(0, 2), dtype=int64)"
            ]
          },
          "metadata": {
            "tags": []
          },
          "execution_count": 18
        }
      ]
    },
    {
      "cell_type": "code",
      "metadata": {
        "colab": {
          "base_uri": "https://localhost:8080/"
        },
        "id": "vAk51mxIp7Tp",
        "outputId": "0a908266-9fc1-49ad-9fc1-3d39bbb7084a"
      },
      "source": [
        "cleaned_data "
      ],
      "execution_count": 19,
      "outputs": [
        {
          "output_type": "execute_result",
          "data": {
            "text/plain": [
              "array([['2539', 'Clean & quiet apt home by the park', '2787', ...,\n",
              "        '0.21', '6', '365'],\n",
              "       ['5022', 'Entire Apt: Spacious Studio/Loft by central park',\n",
              "        '7192', ..., '0.1', '1', '0'],\n",
              "       ['5295', 'Beautiful 1br on Upper West Side', '7702', ..., '0.43',\n",
              "        '1', '6'],\n",
              "       ...,\n",
              "       ['36438336', 'Seas The Moment', '211644523', ..., '1', '1', '87'],\n",
              "       ['36442252', '1B-1B apartment near by Metro', '273841667', ...,\n",
              "        '2', '1', '40'],\n",
              "       ['36455809', 'Cozy Private Room in Bushwick, Brooklyn',\n",
              "        '74162901', ..., '1', '1', '1']], dtype='<U161')"
            ]
          },
          "metadata": {
            "tags": []
          },
          "execution_count": 19
        }
      ]
    },
    {
      "cell_type": "markdown",
      "metadata": {
        "id": "JcE1Lni7p7Tq"
      },
      "source": [
        "## Find float columns"
      ]
    },
    {
      "cell_type": "code",
      "metadata": {
        "id": "V7yPyju2p7Tq",
        "colab": {
          "base_uri": "https://localhost:8080/"
        },
        "outputId": "56453404-2f76-41ae-915b-68c5dadd0b03"
      },
      "source": [
        "numeric_index = np.char.isdigit(cleaned_data)\n",
        "numeric_index"
      ],
      "execution_count": 20,
      "outputs": [
        {
          "output_type": "execute_result",
          "data": {
            "text/plain": [
              "array([[ True, False,  True, ..., False,  True,  True],\n",
              "       [ True, False,  True, ..., False,  True,  True],\n",
              "       [ True, False,  True, ..., False,  True,  True],\n",
              "       ...,\n",
              "       [ True, False,  True, ...,  True,  True,  True],\n",
              "       [ True, False,  True, ...,  True,  True,  True],\n",
              "       [ True, False,  True, ...,  True,  True,  True]])"
            ]
          },
          "metadata": {
            "tags": []
          },
          "execution_count": 20
        }
      ]
    },
    {
      "cell_type": "code",
      "metadata": {
        "id": "AzyMbhGvp7Tr",
        "colab": {
          "base_uri": "https://localhost:8080/"
        },
        "outputId": "9493762c-9eb8-4ff0-e5dd-48f08868fc29"
      },
      "source": [
        "#Find total numbers of rows and columns\n",
        "cleaned_data.shape"
      ],
      "execution_count": 21,
      "outputs": [
        {
          "output_type": "execute_result",
          "data": {
            "text/plain": [
              "(28860, 16)"
            ]
          },
          "metadata": {
            "tags": []
          },
          "execution_count": 21
        }
      ]
    },
    {
      "cell_type": "code",
      "metadata": {
        "colab": {
          "base_uri": "https://localhost:8080/"
        },
        "id": "e__1zVHUp7Ts",
        "outputId": "6e08288c-f440-4342-db0b-97ccb166c473"
      },
      "source": [
        "for i in range(np.shape(cleaned_data)[1]):\n",
        "    try:\n",
        "        cleaned_data[:,i].astype(float)\n",
        "        print(i, \"Float Column\")\n",
        "    except ValueError:\n",
        "        continue"
      ],
      "execution_count": 22,
      "outputs": [
        {
          "output_type": "stream",
          "text": [
            "0 Float Column\n",
            "2 Float Column\n",
            "6 Float Column\n",
            "7 Float Column\n",
            "9 Float Column\n",
            "10 Float Column\n",
            "11 Float Column\n",
            "13 Float Column\n",
            "14 Float Column\n",
            "15 Float Column\n"
          ],
          "name": "stdout"
        }
      ]
    },
    {
      "cell_type": "code",
      "metadata": {
        "colab": {
          "base_uri": "https://localhost:8080/"
        },
        "id": "k84EFnPvp7Tt",
        "outputId": "1d5c37dc-d3d9-4b87-e60b-570f6150540b"
      },
      "source": [
        "float_column = cleaned_data[:,[0,2,6,7,9,10,11,13,14,15]].astype(float)\n",
        "float_column"
      ],
      "execution_count": 23,
      "outputs": [
        {
          "output_type": "execute_result",
          "data": {
            "text/plain": [
              "array([[2.53900000e+03, 2.78700000e+03, 4.06474900e+01, ...,\n",
              "        2.10000000e-01, 6.00000000e+00, 3.65000000e+02],\n",
              "       [5.02200000e+03, 7.19200000e+03, 4.07985100e+01, ...,\n",
              "        1.00000000e-01, 1.00000000e+00, 0.00000000e+00],\n",
              "       [5.29500000e+03, 7.70200000e+03, 4.08031600e+01, ...,\n",
              "        4.30000000e-01, 1.00000000e+00, 6.00000000e+00],\n",
              "       ...,\n",
              "       [3.64383360e+07, 2.11644523e+08, 4.05417900e+01, ...,\n",
              "        1.00000000e+00, 1.00000000e+00, 8.70000000e+01],\n",
              "       [3.64422520e+07, 2.73841667e+08, 4.08078700e+01, ...,\n",
              "        2.00000000e+00, 1.00000000e+00, 4.00000000e+01],\n",
              "       [3.64558090e+07, 7.41629010e+07, 4.06980500e+01, ...,\n",
              "        1.00000000e+00, 1.00000000e+00, 1.00000000e+00]])"
            ]
          },
          "metadata": {
            "tags": []
          },
          "execution_count": 23
        }
      ]
    },
    {
      "cell_type": "code",
      "metadata": {
        "colab": {
          "base_uri": "https://localhost:8080/"
        },
        "id": "crHNb0SZp7Tt",
        "outputId": "15bf132a-2667-4026-fac6-89db98bc76eb"
      },
      "source": [
        "float_header = header[[0,2,6,7,9,10,11,13,14,15]]\n",
        "float_header"
      ],
      "execution_count": 24,
      "outputs": [
        {
          "output_type": "execute_result",
          "data": {
            "text/plain": [
              "array(['id', 'host_id', 'latitude', 'longitude', 'price',\n",
              "       'minimum_nights', 'number_of_reviews', 'reviews_per_month',\n",
              "       'calculated_host_listings_count', 'availability_365'],\n",
              "      dtype='<U161')"
            ]
          },
          "metadata": {
            "tags": []
          },
          "execution_count": 24
        }
      ]
    },
    {
      "cell_type": "markdown",
      "metadata": {
        "id": "cAy9KL5Sp7Tu"
      },
      "source": [
        "## Histogram"
      ]
    },
    {
      "cell_type": "code",
      "metadata": {
        "colab": {
          "base_uri": "https://localhost:8080/",
          "height": 383,
          "referenced_widgets": [
            "32a4f88312c34f58be6980c803c3044e",
            "9a437d746f094b299ece3021377b4855",
            "2b514bddd65f4a1eb5ea6ee80622a390",
            "45be0c8c2d044a57925c31ba5ac5808d",
            "f33d82b027864bf3a4e9112cf3754b8d",
            "78b4bc19fa6d4614b85bd433a107d7c8",
            "16d33a5e260b415398ea39506e256d51"
          ]
        },
        "id": "vJoMNzbyp7Tu",
        "outputId": "b21fb7d0-588a-446b-a8b8-68c00525231d"
      },
      "source": [
        "dropdown = widgets.Dropdown(\n",
        "    options=float_header,\n",
        "    description='Columns:',\n",
        "    disabled=False,\n",
        ")\n",
        "def plot_hist(column_name):\n",
        "    idx = np.argwhere(float_header == column_name)[0][0]\n",
        "    _ = plt.hist(float_column[:,[idx]],bins=\"auto\")\n",
        "    title = \"Histogram with \" + column_name\n",
        "    plt.title(title)\n",
        "    plt.show()\n",
        "widgets.interact(plot_hist,column_name = dropdown)"
      ],
      "execution_count": 26,
      "outputs": [
        {
          "output_type": "stream",
          "text": [
            "/usr/local/lib/python3.7/dist-packages/traitlets/traitlets.py:586: FutureWarning: elementwise comparison failed; returning scalar instead, but in the future will perform elementwise comparison\n",
            "  silent = bool(old_value == new_value)\n"
          ],
          "name": "stderr"
        },
        {
          "output_type": "display_data",
          "data": {
            "application/vnd.jupyter.widget-view+json": {
              "model_id": "32a4f88312c34f58be6980c803c3044e",
              "version_minor": 0,
              "version_major": 2
            },
            "text/plain": [
              "interactive(children=(Dropdown(description='Columns:', options=('id', 'host_id', 'latitude', 'longitude', 'pri…"
            ]
          },
          "metadata": {
            "tags": []
          }
        },
        {
          "output_type": "execute_result",
          "data": {
            "text/plain": [
              "<function __main__.plot_hist>"
            ]
          },
          "metadata": {
            "tags": []
          },
          "execution_count": 26
        }
      ]
    },
    {
      "cell_type": "code",
      "metadata": {
        "id": "g0_bdNkHhw-H"
      },
      "source": [
        ""
      ],
      "execution_count": 13,
      "outputs": []
    }
  ]
}